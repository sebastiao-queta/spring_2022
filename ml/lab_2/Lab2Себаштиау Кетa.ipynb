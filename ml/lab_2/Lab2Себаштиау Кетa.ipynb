{
 "cells": [
  {
   "cell_type": "markdown",
   "metadata": {},
   "source": [
    "# Лабораторная работа № 2\n",
    "# Себаштиау Кета\n",
    "# Вариант 2: Отмена рейсов\n",
    "1. Подсчитайте количество отменённых рейсов.\n",
    "2. Определите аэропорт, рейсы для которого отменяются наиболее часто.\n",
    "3. Определите коэффициент корреляции Пирсона и Спирмена между отменой рейса и днём недели, месяцем, авиакомпанией, аэропортом. Оцените значение p-value. Постройте плотность распределения признаков.\n",
    "4. Подсчитайте для трёх выбранных авиакомпаний: количество рейсов, количество отменённых рейсов, количество перенаправленных рейсов.\n",
    "5. Определите скорость полёта для каждого рейса, скорость полёта среднюю для трёх выбранных авиакомпаний.\n",
    "6. Визуализируйте тепловую карту частоты отмены рейсов. По одной оси – дни, по другой оси – рейс (для двух аэропортов).\n",
    "7. Посчитайте и визуализируйте время задержки отправки и прибытия по трём аэропортам.\n",
    "8. Определите для трёх выбранных аэропортов и визуализируйте задержки по каждой причине.\n",
    "9. Определите авиакомпанию с максимальными задержками рейсов по отправке и прибытию.\n"
   ]
  },
  {
   "cell_type": "code",
   "execution_count": 1,
   "metadata": {},
   "outputs": [
    {
     "data": {
      "text/html": [
       "<div>\n",
       "<style scoped>\n",
       "    .dataframe tbody tr th:only-of-type {\n",
       "        vertical-align: middle;\n",
       "    }\n",
       "\n",
       "    .dataframe tbody tr th {\n",
       "        vertical-align: top;\n",
       "    }\n",
       "\n",
       "    .dataframe thead th {\n",
       "        text-align: right;\n",
       "    }\n",
       "</style>\n",
       "<table border=\"1\" class=\"dataframe\">\n",
       "  <thead>\n",
       "    <tr style=\"text-align: right;\">\n",
       "      <th></th>\n",
       "      <th>YEAR</th>\n",
       "      <th>MONTH</th>\n",
       "      <th>DAY</th>\n",
       "      <th>DAY_OF_WEEK</th>\n",
       "      <th>AIRLINE</th>\n",
       "      <th>FLIGHT_NUMBER</th>\n",
       "      <th>TAIL_NUMBER</th>\n",
       "      <th>ORIGIN_AIRPORT</th>\n",
       "      <th>DESTINATION_AIRPORT</th>\n",
       "      <th>SCHEDULED_DEPARTURE</th>\n",
       "      <th>...</th>\n",
       "      <th>ARRIVAL_TIME</th>\n",
       "      <th>ARRIVAL_DELAY</th>\n",
       "      <th>DIVERTED</th>\n",
       "      <th>CANCELLED</th>\n",
       "      <th>CANCELLATION_REASON</th>\n",
       "      <th>AIR_SYSTEM_DELAY</th>\n",
       "      <th>SECURITY_DELAY</th>\n",
       "      <th>AIRLINE_DELAY</th>\n",
       "      <th>LATE_AIRCRAFT_DELAY</th>\n",
       "      <th>WEATHER_DELAY</th>\n",
       "    </tr>\n",
       "  </thead>\n",
       "  <tbody>\n",
       "    <tr>\n",
       "      <th>0</th>\n",
       "      <td>2015</td>\n",
       "      <td>1</td>\n",
       "      <td>1</td>\n",
       "      <td>4</td>\n",
       "      <td>AS</td>\n",
       "      <td>98</td>\n",
       "      <td>N407AS</td>\n",
       "      <td>ANC</td>\n",
       "      <td>SEA</td>\n",
       "      <td>5</td>\n",
       "      <td>...</td>\n",
       "      <td>408.0</td>\n",
       "      <td>-22.0</td>\n",
       "      <td>0</td>\n",
       "      <td>0</td>\n",
       "      <td>NaN</td>\n",
       "      <td>NaN</td>\n",
       "      <td>NaN</td>\n",
       "      <td>NaN</td>\n",
       "      <td>NaN</td>\n",
       "      <td>NaN</td>\n",
       "    </tr>\n",
       "    <tr>\n",
       "      <th>1</th>\n",
       "      <td>2015</td>\n",
       "      <td>1</td>\n",
       "      <td>1</td>\n",
       "      <td>4</td>\n",
       "      <td>AA</td>\n",
       "      <td>2336</td>\n",
       "      <td>N3KUAA</td>\n",
       "      <td>LAX</td>\n",
       "      <td>PBI</td>\n",
       "      <td>10</td>\n",
       "      <td>...</td>\n",
       "      <td>741.0</td>\n",
       "      <td>-9.0</td>\n",
       "      <td>0</td>\n",
       "      <td>0</td>\n",
       "      <td>NaN</td>\n",
       "      <td>NaN</td>\n",
       "      <td>NaN</td>\n",
       "      <td>NaN</td>\n",
       "      <td>NaN</td>\n",
       "      <td>NaN</td>\n",
       "    </tr>\n",
       "    <tr>\n",
       "      <th>2</th>\n",
       "      <td>2015</td>\n",
       "      <td>1</td>\n",
       "      <td>1</td>\n",
       "      <td>4</td>\n",
       "      <td>US</td>\n",
       "      <td>840</td>\n",
       "      <td>N171US</td>\n",
       "      <td>SFO</td>\n",
       "      <td>CLT</td>\n",
       "      <td>20</td>\n",
       "      <td>...</td>\n",
       "      <td>811.0</td>\n",
       "      <td>5.0</td>\n",
       "      <td>0</td>\n",
       "      <td>0</td>\n",
       "      <td>NaN</td>\n",
       "      <td>NaN</td>\n",
       "      <td>NaN</td>\n",
       "      <td>NaN</td>\n",
       "      <td>NaN</td>\n",
       "      <td>NaN</td>\n",
       "    </tr>\n",
       "    <tr>\n",
       "      <th>3</th>\n",
       "      <td>2015</td>\n",
       "      <td>1</td>\n",
       "      <td>1</td>\n",
       "      <td>4</td>\n",
       "      <td>AA</td>\n",
       "      <td>258</td>\n",
       "      <td>N3HYAA</td>\n",
       "      <td>LAX</td>\n",
       "      <td>MIA</td>\n",
       "      <td>20</td>\n",
       "      <td>...</td>\n",
       "      <td>756.0</td>\n",
       "      <td>-9.0</td>\n",
       "      <td>0</td>\n",
       "      <td>0</td>\n",
       "      <td>NaN</td>\n",
       "      <td>NaN</td>\n",
       "      <td>NaN</td>\n",
       "      <td>NaN</td>\n",
       "      <td>NaN</td>\n",
       "      <td>NaN</td>\n",
       "    </tr>\n",
       "    <tr>\n",
       "      <th>4</th>\n",
       "      <td>2015</td>\n",
       "      <td>1</td>\n",
       "      <td>1</td>\n",
       "      <td>4</td>\n",
       "      <td>AS</td>\n",
       "      <td>135</td>\n",
       "      <td>N527AS</td>\n",
       "      <td>SEA</td>\n",
       "      <td>ANC</td>\n",
       "      <td>25</td>\n",
       "      <td>...</td>\n",
       "      <td>259.0</td>\n",
       "      <td>-21.0</td>\n",
       "      <td>0</td>\n",
       "      <td>0</td>\n",
       "      <td>NaN</td>\n",
       "      <td>NaN</td>\n",
       "      <td>NaN</td>\n",
       "      <td>NaN</td>\n",
       "      <td>NaN</td>\n",
       "      <td>NaN</td>\n",
       "    </tr>\n",
       "    <tr>\n",
       "      <th>...</th>\n",
       "      <td>...</td>\n",
       "      <td>...</td>\n",
       "      <td>...</td>\n",
       "      <td>...</td>\n",
       "      <td>...</td>\n",
       "      <td>...</td>\n",
       "      <td>...</td>\n",
       "      <td>...</td>\n",
       "      <td>...</td>\n",
       "      <td>...</td>\n",
       "      <td>...</td>\n",
       "      <td>...</td>\n",
       "      <td>...</td>\n",
       "      <td>...</td>\n",
       "      <td>...</td>\n",
       "      <td>...</td>\n",
       "      <td>...</td>\n",
       "      <td>...</td>\n",
       "      <td>...</td>\n",
       "      <td>...</td>\n",
       "      <td>...</td>\n",
       "    </tr>\n",
       "    <tr>\n",
       "      <th>95</th>\n",
       "      <td>2015</td>\n",
       "      <td>1</td>\n",
       "      <td>1</td>\n",
       "      <td>4</td>\n",
       "      <td>B6</td>\n",
       "      <td>2001</td>\n",
       "      <td>N358JB</td>\n",
       "      <td>BUF</td>\n",
       "      <td>JFK</td>\n",
       "      <td>535</td>\n",
       "      <td>...</td>\n",
       "      <td>648.0</td>\n",
       "      <td>-15.0</td>\n",
       "      <td>0</td>\n",
       "      <td>0</td>\n",
       "      <td>NaN</td>\n",
       "      <td>NaN</td>\n",
       "      <td>NaN</td>\n",
       "      <td>NaN</td>\n",
       "      <td>NaN</td>\n",
       "      <td>NaN</td>\n",
       "    </tr>\n",
       "    <tr>\n",
       "      <th>96</th>\n",
       "      <td>2015</td>\n",
       "      <td>1</td>\n",
       "      <td>1</td>\n",
       "      <td>4</td>\n",
       "      <td>B6</td>\n",
       "      <td>2807</td>\n",
       "      <td>N190JB</td>\n",
       "      <td>PWM</td>\n",
       "      <td>JFK</td>\n",
       "      <td>535</td>\n",
       "      <td>...</td>\n",
       "      <td>635.0</td>\n",
       "      <td>-25.0</td>\n",
       "      <td>0</td>\n",
       "      <td>0</td>\n",
       "      <td>NaN</td>\n",
       "      <td>NaN</td>\n",
       "      <td>NaN</td>\n",
       "      <td>NaN</td>\n",
       "      <td>NaN</td>\n",
       "      <td>NaN</td>\n",
       "    </tr>\n",
       "    <tr>\n",
       "      <th>97</th>\n",
       "      <td>2015</td>\n",
       "      <td>1</td>\n",
       "      <td>1</td>\n",
       "      <td>4</td>\n",
       "      <td>B6</td>\n",
       "      <td>2023</td>\n",
       "      <td>N324JB</td>\n",
       "      <td>JFK</td>\n",
       "      <td>SJU</td>\n",
       "      <td>535</td>\n",
       "      <td>...</td>\n",
       "      <td>1039.0</td>\n",
       "      <td>19.0</td>\n",
       "      <td>0</td>\n",
       "      <td>0</td>\n",
       "      <td>NaN</td>\n",
       "      <td>0.0</td>\n",
       "      <td>0.0</td>\n",
       "      <td>19.0</td>\n",
       "      <td>0.0</td>\n",
       "      <td>0.0</td>\n",
       "    </tr>\n",
       "    <tr>\n",
       "      <th>98</th>\n",
       "      <td>2015</td>\n",
       "      <td>1</td>\n",
       "      <td>1</td>\n",
       "      <td>4</td>\n",
       "      <td>EV</td>\n",
       "      <td>4557</td>\n",
       "      <td>N12967</td>\n",
       "      <td>CRP</td>\n",
       "      <td>IAH</td>\n",
       "      <td>535</td>\n",
       "      <td>...</td>\n",
       "      <td>615.0</td>\n",
       "      <td>-21.0</td>\n",
       "      <td>0</td>\n",
       "      <td>0</td>\n",
       "      <td>NaN</td>\n",
       "      <td>NaN</td>\n",
       "      <td>NaN</td>\n",
       "      <td>NaN</td>\n",
       "      <td>NaN</td>\n",
       "      <td>NaN</td>\n",
       "    </tr>\n",
       "    <tr>\n",
       "      <th>99</th>\n",
       "      <td>2015</td>\n",
       "      <td>1</td>\n",
       "      <td>1</td>\n",
       "      <td>4</td>\n",
       "      <td>EV</td>\n",
       "      <td>5241</td>\n",
       "      <td>N849AS</td>\n",
       "      <td>PIA</td>\n",
       "      <td>DTW</td>\n",
       "      <td>535</td>\n",
       "      <td>...</td>\n",
       "      <td>745.0</td>\n",
       "      <td>-18.0</td>\n",
       "      <td>0</td>\n",
       "      <td>0</td>\n",
       "      <td>NaN</td>\n",
       "      <td>NaN</td>\n",
       "      <td>NaN</td>\n",
       "      <td>NaN</td>\n",
       "      <td>NaN</td>\n",
       "      <td>NaN</td>\n",
       "    </tr>\n",
       "  </tbody>\n",
       "</table>\n",
       "<p>100 rows × 31 columns</p>\n",
       "</div>"
      ],
      "text/plain": [
       "    YEAR  MONTH  DAY  DAY_OF_WEEK AIRLINE  FLIGHT_NUMBER TAIL_NUMBER  \\\n",
       "0   2015      1    1            4      AS             98      N407AS   \n",
       "1   2015      1    1            4      AA           2336      N3KUAA   \n",
       "2   2015      1    1            4      US            840      N171US   \n",
       "3   2015      1    1            4      AA            258      N3HYAA   \n",
       "4   2015      1    1            4      AS            135      N527AS   \n",
       "..   ...    ...  ...          ...     ...            ...         ...   \n",
       "95  2015      1    1            4      B6           2001      N358JB   \n",
       "96  2015      1    1            4      B6           2807      N190JB   \n",
       "97  2015      1    1            4      B6           2023      N324JB   \n",
       "98  2015      1    1            4      EV           4557      N12967   \n",
       "99  2015      1    1            4      EV           5241      N849AS   \n",
       "\n",
       "   ORIGIN_AIRPORT DESTINATION_AIRPORT  SCHEDULED_DEPARTURE  ...  ARRIVAL_TIME  \\\n",
       "0             ANC                 SEA                    5  ...         408.0   \n",
       "1             LAX                 PBI                   10  ...         741.0   \n",
       "2             SFO                 CLT                   20  ...         811.0   \n",
       "3             LAX                 MIA                   20  ...         756.0   \n",
       "4             SEA                 ANC                   25  ...         259.0   \n",
       "..            ...                 ...                  ...  ...           ...   \n",
       "95            BUF                 JFK                  535  ...         648.0   \n",
       "96            PWM                 JFK                  535  ...         635.0   \n",
       "97            JFK                 SJU                  535  ...        1039.0   \n",
       "98            CRP                 IAH                  535  ...         615.0   \n",
       "99            PIA                 DTW                  535  ...         745.0   \n",
       "\n",
       "    ARRIVAL_DELAY  DIVERTED  CANCELLED  CANCELLATION_REASON  AIR_SYSTEM_DELAY  \\\n",
       "0           -22.0         0          0                  NaN               NaN   \n",
       "1            -9.0         0          0                  NaN               NaN   \n",
       "2             5.0         0          0                  NaN               NaN   \n",
       "3            -9.0         0          0                  NaN               NaN   \n",
       "4           -21.0         0          0                  NaN               NaN   \n",
       "..            ...       ...        ...                  ...               ...   \n",
       "95          -15.0         0          0                  NaN               NaN   \n",
       "96          -25.0         0          0                  NaN               NaN   \n",
       "97           19.0         0          0                  NaN               0.0   \n",
       "98          -21.0         0          0                  NaN               NaN   \n",
       "99          -18.0         0          0                  NaN               NaN   \n",
       "\n",
       "    SECURITY_DELAY  AIRLINE_DELAY  LATE_AIRCRAFT_DELAY  WEATHER_DELAY  \n",
       "0              NaN            NaN                  NaN            NaN  \n",
       "1              NaN            NaN                  NaN            NaN  \n",
       "2              NaN            NaN                  NaN            NaN  \n",
       "3              NaN            NaN                  NaN            NaN  \n",
       "4              NaN            NaN                  NaN            NaN  \n",
       "..             ...            ...                  ...            ...  \n",
       "95             NaN            NaN                  NaN            NaN  \n",
       "96             NaN            NaN                  NaN            NaN  \n",
       "97             0.0           19.0                  0.0            0.0  \n",
       "98             NaN            NaN                  NaN            NaN  \n",
       "99             NaN            NaN                  NaN            NaN  \n",
       "\n",
       "[100 rows x 31 columns]"
      ]
     },
     "execution_count": 1,
     "metadata": {},
     "output_type": "execute_result"
    }
   ],
   "source": [
    "import pandas as pd\n",
    "# low_memory = False для уменьшения использования памяти pandas\n",
    "df = pd.read_csv('flights.csv', low_memory = False)\n",
    "df.head(100)"
   ]
  },
  {
   "cell_type": "markdown",
   "metadata": {},
   "source": [
    "# 1.Подсчитайте количество отменённых рейсов."
   ]
  },
  {
   "cell_type": "code",
   "execution_count": 2,
   "metadata": {},
   "outputs": [
    {
     "name": "stdout",
     "output_type": "stream",
     "text": [
      "Отменённых рейсов:  89884\n"
     ]
    }
   ],
   "source": [
    "print('Отменённых рейсов: ', sum(df.CANCELLED == 1))"
   ]
  },
  {
   "cell_type": "markdown",
   "metadata": {},
   "source": [
    "# 2.Определите аэропорт, рейсы для которого отменяются наиболее часто."
   ]
  },
  {
   "cell_type": "code",
   "execution_count": 3,
   "metadata": {},
   "outputs": [
    {
     "data": {
      "text/html": [
       "<div>\n",
       "<style scoped>\n",
       "    .dataframe tbody tr th:only-of-type {\n",
       "        vertical-align: middle;\n",
       "    }\n",
       "\n",
       "    .dataframe tbody tr th {\n",
       "        vertical-align: top;\n",
       "    }\n",
       "\n",
       "    .dataframe thead th {\n",
       "        text-align: right;\n",
       "    }\n",
       "</style>\n",
       "<table border=\"1\" class=\"dataframe\">\n",
       "  <thead>\n",
       "    <tr style=\"text-align: right;\">\n",
       "      <th></th>\n",
       "      <th>CANCELLED</th>\n",
       "    </tr>\n",
       "    <tr>\n",
       "      <th>ORIGIN_AIRPORT</th>\n",
       "      <th></th>\n",
       "    </tr>\n",
       "  </thead>\n",
       "  <tbody>\n",
       "    <tr>\n",
       "      <th>ATL</th>\n",
       "      <td>346836</td>\n",
       "    </tr>\n",
       "    <tr>\n",
       "      <th>ORD</th>\n",
       "      <td>285884</td>\n",
       "    </tr>\n",
       "    <tr>\n",
       "      <th>DFW</th>\n",
       "      <td>239551</td>\n",
       "    </tr>\n",
       "    <tr>\n",
       "      <th>DEN</th>\n",
       "      <td>196055</td>\n",
       "    </tr>\n",
       "    <tr>\n",
       "      <th>LAX</th>\n",
       "      <td>194673</td>\n",
       "    </tr>\n",
       "    <tr>\n",
       "      <th>...</th>\n",
       "      <td>...</td>\n",
       "    </tr>\n",
       "    <tr>\n",
       "      <th>13541</th>\n",
       "      <td>11</td>\n",
       "    </tr>\n",
       "    <tr>\n",
       "      <th>14222</th>\n",
       "      <td>9</td>\n",
       "    </tr>\n",
       "    <tr>\n",
       "      <th>10165</th>\n",
       "      <td>9</td>\n",
       "    </tr>\n",
       "    <tr>\n",
       "      <th>13502</th>\n",
       "      <td>6</td>\n",
       "    </tr>\n",
       "    <tr>\n",
       "      <th>11503</th>\n",
       "      <td>4</td>\n",
       "    </tr>\n",
       "  </tbody>\n",
       "</table>\n",
       "<p>628 rows × 1 columns</p>\n",
       "</div>"
      ],
      "text/plain": [
       "                CANCELLED\n",
       "ORIGIN_AIRPORT           \n",
       "ATL                346836\n",
       "ORD                285884\n",
       "DFW                239551\n",
       "DEN                196055\n",
       "LAX                194673\n",
       "...                   ...\n",
       "13541                  11\n",
       "14222                   9\n",
       "10165                   9\n",
       "13502                   6\n",
       "11503                   4\n",
       "\n",
       "[628 rows x 1 columns]"
      ]
     },
     "execution_count": 3,
     "metadata": {},
     "output_type": "execute_result"
    }
   ],
   "source": [
    "most_cancelled = df.groupby(['ORIGIN_AIRPORT'])[['CANCELLED']].count()\n",
    "most_cancelled.sort_values(by=['CANCELLED'], ascending=False)\n"
   ]
  },
  {
   "cell_type": "markdown",
   "metadata": {},
   "source": [
    "Аэропорт с наибольшим количеством отмененных рейсов - ATL: 346836 "
   ]
  },
  {
   "cell_type": "markdown",
   "metadata": {},
   "source": [
    "# 3.Определите коэффициент корреляции Пирсона и Спирмена между отменой рейса и днём недели, месяцем, авиакомпанией, аэропортом. Оцените значение p-value. Постройте плотность распределения признаков."
   ]
  },
  {
   "cell_type": "code",
   "execution_count": 33,
   "metadata": {},
   "outputs": [],
   "source": [
    "# Импорт модулей для исп. стат. функций пирсона и спирмана\n",
    "from scipy.stats import pearsonr\n",
    "from scipy.stats import spearmanr\n",
    "from sklearn.preprocessing import LabelEncoder\n",
    "\n",
    "import seaborn"
   ]
  },
  {
   "cell_type": "code",
   "execution_count": 5,
   "metadata": {},
   "outputs": [
    {
     "name": "stdout",
     "output_type": "stream",
     "text": [
      "Отмена рейса - день недели\n",
      "Коэффициент Пирсона:  (-0.022230160330716127, 0.0)\n",
      "Коэффициент Спирмана:  SpearmanrResult(correlation=-0.022767803841688, pvalue=0.0)\n",
      "p-value is good\n"
     ]
    }
   ],
   "source": [
    "label_encoder = LabelEncoder()\n",
    "dayCoder = pd.Series(label_encoder.fit_transform(df['DAY_OF_WEEK']))\n",
    "pears = pearsonr(dayCoder, df.CANCELLED)\n",
    "spear = spearmanr(dayCoder, df.CANCELLED)\n",
    "print('Отмена рейса - день недели')\n",
    "print('Коэффициент Пирсона: ', pears)\n",
    "print('Коэффициент Спирмана: ', spear)\n",
    "def pValue(spear):\n",
    "    if spear[1] < 0.05:\n",
    "        print('p-value is good')\n",
    "    else:\n",
    "        print('p-value is not good')\n",
    "pValue(spear)"
   ]
  },
  {
   "cell_type": "code",
   "execution_count": 6,
   "metadata": {},
   "outputs": [
    {
     "name": "stdout",
     "output_type": "stream",
     "text": [
      "Отмена рейса - месяц\n",
      "Коэффициент Пирсона:  (-0.05504306001039686, 0.0)\n",
      "Коэффициент Спирмана:  SpearmanrResult(correlation=-0.05513296176216329, pvalue=0.0)\n",
      "p-value is good\n"
     ]
    }
   ],
   "source": [
    "label_encoder = LabelEncoder()\n",
    "monthCoder = pd.Series(label_encoder.fit_transform(df['MONTH']))\n",
    "pears = pearsonr(monthCoder, df.CANCELLED)\n",
    "spear = spearmanr(monthCoder, df.CANCELLED)\n",
    "print('Отмена рейса - месяц')\n",
    "print('Коэффициент Пирсона: ', pears)\n",
    "print('Коэффициент Спирмана: ', spear)\n",
    "pValue(spear)"
   ]
  },
  {
   "cell_type": "code",
   "execution_count": 7,
   "metadata": {},
   "outputs": [
    {
     "name": "stdout",
     "output_type": "stream",
     "text": [
      "Отмена рейса - авиакомпания\n",
      "Коэффициент Пирсона:  (0.004359972463785405, 7.174621551202461e-26)\n",
      "Коэффициент Спирмана:  SpearmanrResult(correlation=0.0050961678376882, pvalue=9.822977461217948e-35)\n",
      "p-value is good\n"
     ]
    }
   ],
   "source": [
    "label_encoder = LabelEncoder()\n",
    "airlineCoder = pd.Series(label_encoder.fit_transform(df.AIRLINE))\n",
    "pears = pearsonr(airlineCoder, df.CANCELLED)\n",
    "spear = spearmanr(airlineCoder, df.CANCELLED)\n",
    "print('Отмена рейса - авиакомпания')\n",
    "print('Коэффициент Пирсона: ', pears)\n",
    "print('Коэффициент Спирмана: ', spear)\n",
    "pValue(spear)"
   ]
  },
  {
   "cell_type": "code",
   "execution_count": 8,
   "metadata": {},
   "outputs": [
    {
     "name": "stdout",
     "output_type": "stream",
     "text": [
      "Отмена рейса - аэропорт\n",
      "Коэффициент Пирсона:  (0.013248131507266827, 3.9798705121089426e-224)\n",
      "Коэффициент Спирмана:  SpearmanrResult(correlation=0.006906929486073159, pvalue=2.4918100216920145e-62)\n",
      "p-value is good\n"
     ]
    }
   ],
   "source": [
    "label_encoder = LabelEncoder()\n",
    "airportCoder = pd.Series(label_encoder.fit_transform(df['ORIGIN_AIRPORT']))\n",
    "pears = pearsonr(airportCoder, df.CANCELLED)\n",
    "spear = spearmanr(airportCoder, df.CANCELLED)\n",
    "print('Отмена рейса - аэропорт')\n",
    "print('Коэффициент Пирсона: ', pears)\n",
    "print('Коэффициент Спирмана: ', spear)\n",
    "pValue(spear)"
   ]
  },
  {
   "cell_type": "code",
   "execution_count": 9,
   "metadata": {},
   "outputs": [
    {
     "data": {
      "text/plain": [
       "<AxesSubplot:xlabel='DAY_OF_WEEK', ylabel='Density'>"
      ]
     },
     "execution_count": 9,
     "metadata": {},
     "output_type": "execute_result"
    },
    {
     "data": {
      "image/png": "[encoded data removed]",
      "text/plain": [
       "<Figure size 432x288 with 1 Axes>"
      ]
     },
     "metadata": {
      "needs_background": "light"
     },
     "output_type": "display_data"
    }
   ],
   "source": [
    "# Графики плотности распределения признаков\n",
    "seaborn.histplot(df['DAY_OF_WEEK'], color=\"red\", label=\"100% Equities\", kde=True, stat=\"density\", linewidth=0)"
   ]
  },
  {
   "cell_type": "code",
   "execution_count": 10,
   "metadata": {},
   "outputs": [
    {
     "data": {
      "text/plain": [
       "<AxesSubplot:xlabel='MONTH', ylabel='Density'>"
      ]
     },
     "execution_count": 10,
     "metadata": {},
     "output_type": "execute_result"
    },
    {
     "data": {
      "image/png": "[encoded data removed]",
      "text/plain": [
       "<Figure size 432x288 with 1 Axes>"
      ]
     },
     "metadata": {
      "needs_background": "light"
     },
     "output_type": "display_data"
    }
   ],
   "source": [
    "seaborn.histplot(df['MONTH'], color=\"blue\", label=\"100% Equities\", kde=True, stat=\"density\", linewidth=0)\n"
   ]
  },
  {
   "cell_type": "code",
   "execution_count": 11,
   "metadata": {},
   "outputs": [
    {
     "data": {
      "text/plain": [
       "<AxesSubplot:xlabel='ORIGIN_AIRPORT', ylabel='Density'>"
      ]
     },
     "execution_count": 11,
     "metadata": {},
     "output_type": "execute_result"
    },
    {
     "data": {
      "image/png": "[encoded data removed]",
      "text/plain": [
       "<Figure size 432x288 with 1 Axes>"
      ]
     },
     "metadata": {
      "needs_background": "light"
     },
     "output_type": "display_data"
    }
   ],
   "source": [
    "seaborn.histplot(df['ORIGIN_AIRPORT'], color=\"blue\", label=\"20% Equities\", kde=True, stat=\"density\", linewidth=0)"
   ]
  },
  {
   "cell_type": "code",
   "execution_count": 12,
   "metadata": {},
   "outputs": [
    {
     "data": {
      "text/plain": [
       "<AxesSubplot:xlabel='AIRLINE', ylabel='Density'>"
      ]
     },
     "execution_count": 12,
     "metadata": {},
     "output_type": "execute_result"
    },
    {
     "data": {
      "image/png": "[encoded data removed]",
      "text/plain": [
       "<Figure size 432x288 with 1 Axes>"
      ]
     },
     "metadata": {
      "needs_background": "light"
     },
     "output_type": "display_data"
    }
   ],
   "source": [
    "seaborn.histplot(df['AIRLINE'], color=\"blue\", label=\"100% Equities\", kde=True, stat=\"density\", linewidth=0)"
   ]
  },
  {
   "cell_type": "markdown",
   "metadata": {},
   "source": [
    "# 4.Подсчитайте для трёх выбранных авиакомпаний: количество рейсов, количество отменённых рейсов, количество перенаправленных рейсов."
   ]
  },
  {
   "cell_type": "code",
   "execution_count": 13,
   "metadata": {},
   "outputs": [
    {
     "name": "stdout",
     "output_type": "stream",
     "text": [
      "Аэропорт AS:\n",
      "Рейсов:  172521\n",
      "Отмененных рейсов:  669\n",
      "Перенаправленных рейсов:  413\n"
     ]
    }
   ],
   "source": [
    "# Считаем кол-во строк из фильтрованных датафреймов\n",
    "print('Аэропорт AS:')\n",
    "print('Рейсов: ',df[df.AIRLINE == 'AS'].shape[0])\n",
    "print('Отмененных рейсов: ',df[(df.CANCELLED == 1) & (df.AIRLINE == 'AS')].shape[0])\n",
    "print('Перенаправленных рейсов: ',df[(df.DIVERTED == 1) & (df.AIRLINE == 'AS')].shape[0])\n",
    "\n"
   ]
  },
  {
   "cell_type": "code",
   "execution_count": 14,
   "metadata": {},
   "outputs": [
    {
     "name": "stdout",
     "output_type": "stream",
     "text": [
      "Аэропорт AA:\n",
      "Рейсов:  725984\n",
      "Отмененных рейсов:  10919\n",
      "Перенаправленных рейсов:  2130\n"
     ]
    }
   ],
   "source": [
    "print('Аэропорт AA:')\n",
    "print('Рейсов: ',df[df.AIRLINE == 'AA'].shape[0])\n",
    "print('Отмененных рейсов: ',df[(df.CANCELLED == 1) & (df.AIRLINE == 'AA')].shape[0])\n",
    "print('Перенаправленных рейсов: ',df[(df.DIVERTED == 1) & (df.AIRLINE == 'AA')].shape[0])\n"
   ]
  },
  {
   "cell_type": "code",
   "execution_count": 15,
   "metadata": {},
   "outputs": [
    {
     "name": "stdout",
     "output_type": "stream",
     "text": [
      "Аэропорт US:\n",
      "Рейсов:  198715\n",
      "Отмененных рейсов:  4067\n",
      "Перенаправленных рейсов:  425\n"
     ]
    }
   ],
   "source": [
    "print('Аэропорт US:')\n",
    "print('Рейсов: ',df[df.AIRLINE == 'US'].shape[0])\n",
    "print('Отмененных рейсов: ',df[(df.CANCELLED == 1) & (df.AIRLINE == 'US')].shape[0])\n",
    "print('Перенаправленных рейсов: ',df[(df.DIVERTED == 1) & (df.AIRLINE == 'US')].shape[0])"
   ]
  },
  {
   "cell_type": "markdown",
   "metadata": {},
   "source": [
    "# 5.Определите скорость полёта для каждого рейса, скорость полёта среднюю для трёх выбранных авиакомпаний."
   ]
  },
  {
   "cell_type": "code",
   "execution_count": 16,
   "metadata": {},
   "outputs": [
    {
     "data": {
      "text/html": [
       "<div>\n",
       "<style scoped>\n",
       "    .dataframe tbody tr th:only-of-type {\n",
       "        vertical-align: middle;\n",
       "    }\n",
       "\n",
       "    .dataframe tbody tr th {\n",
       "        vertical-align: top;\n",
       "    }\n",
       "\n",
       "    .dataframe thead th {\n",
       "        text-align: right;\n",
       "    }\n",
       "</style>\n",
       "<table border=\"1\" class=\"dataframe\">\n",
       "  <thead>\n",
       "    <tr style=\"text-align: right;\">\n",
       "      <th></th>\n",
       "      <th>AIRLINE</th>\n",
       "      <th>FLIGHT_SPEED</th>\n",
       "    </tr>\n",
       "  </thead>\n",
       "  <tbody>\n",
       "    <tr>\n",
       "      <th>0</th>\n",
       "      <td>AS</td>\n",
       "      <td>8.568047</td>\n",
       "    </tr>\n",
       "    <tr>\n",
       "      <th>1</th>\n",
       "      <td>AA</td>\n",
       "      <td>8.859316</td>\n",
       "    </tr>\n",
       "    <tr>\n",
       "      <th>2</th>\n",
       "      <td>US</td>\n",
       "      <td>8.631579</td>\n",
       "    </tr>\n",
       "    <tr>\n",
       "      <th>3</th>\n",
       "      <td>AA</td>\n",
       "      <td>9.077519</td>\n",
       "    </tr>\n",
       "    <tr>\n",
       "      <th>4</th>\n",
       "      <td>AS</td>\n",
       "      <td>7.276382</td>\n",
       "    </tr>\n",
       "    <tr>\n",
       "      <th>...</th>\n",
       "      <td>...</td>\n",
       "      <td>...</td>\n",
       "    </tr>\n",
       "    <tr>\n",
       "      <th>5819074</th>\n",
       "      <td>B6</td>\n",
       "      <td>9.599265</td>\n",
       "    </tr>\n",
       "    <tr>\n",
       "      <th>5819075</th>\n",
       "      <td>B6</td>\n",
       "      <td>8.292308</td>\n",
       "    </tr>\n",
       "    <tr>\n",
       "      <th>5819076</th>\n",
       "      <td>B6</td>\n",
       "      <td>8.111675</td>\n",
       "    </tr>\n",
       "    <tr>\n",
       "      <th>5819077</th>\n",
       "      <td>B6</td>\n",
       "      <td>8.256944</td>\n",
       "    </tr>\n",
       "    <tr>\n",
       "      <th>5819078</th>\n",
       "      <td>B6</td>\n",
       "      <td>8.338624</td>\n",
       "    </tr>\n",
       "  </tbody>\n",
       "</table>\n",
       "<p>5819079 rows × 2 columns</p>\n",
       "</div>"
      ],
      "text/plain": [
       "        AIRLINE  FLIGHT_SPEED\n",
       "0            AS      8.568047\n",
       "1            AA      8.859316\n",
       "2            US      8.631579\n",
       "3            AA      9.077519\n",
       "4            AS      7.276382\n",
       "...         ...           ...\n",
       "5819074      B6      9.599265\n",
       "5819075      B6      8.292308\n",
       "5819076      B6      8.111675\n",
       "5819077      B6      8.256944\n",
       "5819078      B6      8.338624\n",
       "\n",
       "[5819079 rows x 2 columns]"
      ]
     },
     "execution_count": 16,
     "metadata": {},
     "output_type": "execute_result"
    }
   ],
   "source": [
    "df['FLIGHT_SPEED'] = df['DISTANCE']/df['AIR_TIME']\n",
    "speed_df = df[['AIRLINE', 'FLIGHT_SPEED']]\n",
    "speed_df\n",
    "\n"
   ]
  },
  {
   "cell_type": "code",
   "execution_count": 17,
   "metadata": {},
   "outputs": [
    {
     "data": {
      "text/plain": [
       "AIRLINE\n",
       "AA    7.127989\n",
       "AS    7.258512\n",
       "B6    6.992831\n",
       "Name: FLIGHT_SPEED, dtype: float64"
      ]
     },
     "execution_count": 17,
     "metadata": {},
     "output_type": "execute_result"
    }
   ],
   "source": [
    "# mean() возвращает среднее значение для каждого\n",
    "avg_df = speed_df.groupby(['AIRLINE'])['FLIGHT_SPEED'].mean()\n",
    "avg_df.head(3)"
   ]
  },
  {
   "cell_type": "markdown",
   "metadata": {},
   "source": [
    "# 6.Визуализируйте тепловую карту частоты отмены рейсов. По одной оси – дни, по другой оси – рейс (для двух аэропортов)."
   ]
  },
  {
   "cell_type": "code",
   "execution_count": 18,
   "metadata": {},
   "outputs": [
    {
     "data": {
      "text/plain": [
       "<AxesSubplot:xlabel='FLIGHT_NUMBER', ylabel='DAY'>"
      ]
     },
     "execution_count": 18,
     "metadata": {},
     "output_type": "execute_result"
    },
    {
     "data": {
      "image/png": "[encoded data removed]",
      "text/plain": [
       "<Figure size 432x288 with 2 Axes>"
      ]
     },
     "metadata": {
      "needs_background": "light"
     },
     "output_type": "display_data"
    }
   ],
   "source": [
    "# Оставляем номер рейса и день отмены, заносим срез в дф heatmap\n",
    "heatmap=df[(df['ORIGIN_AIRPORT']=='ABE')][['FLIGHT_NUMBER', 'DAY']]\n",
    "# Добавляем новое поле counts, считаем кол-во отмен каждого рейса для каждого дня с помощью value_counts\n",
    "heatmap=heatmap.groupby('FLIGHT_NUMBER')['DAY'].value_counts().reset_index(name='Counts')\n",
    "# Преобразуем в сводную таблицу, заносим её в heatmap1\n",
    "heatmap1 = heatmap.pivot_table(values='Counts',index='DAY',columns='FLIGHT_NUMBER')\n",
    "# Рисуем темловую карту\n",
    "seaborn.heatmap(heatmap1)"
   ]
  },
  {
   "cell_type": "code",
   "execution_count": 19,
   "metadata": {},
   "outputs": [
    {
     "data": {
      "text/plain": [
       "<AxesSubplot:xlabel='FLIGHT_NUMBER', ylabel='DAY'>"
      ]
     },
     "execution_count": 19,
     "metadata": {},
     "output_type": "execute_result"
    },
    {
     "data": {
      "image/png": "[encoded data removed]",
      "text/plain": [
       "<Figure size 432x288 with 2 Axes>"
      ]
     },
     "metadata": {
      "needs_background": "light"
     },
     "output_type": "display_data"
    }
   ],
   "source": [
    "# Аналогично для другого аэропорта ABI\n",
    "heatmap=df[(df['ORIGIN_AIRPORT']=='ABI')][['FLIGHT_NUMBER', 'DAY']]\n",
    "heatmap=heatmap.groupby('FLIGHT_NUMBER')['DAY'].value_counts().reset_index(name='Counts')\n",
    "heatmap2 = heatmap.pivot_table(values='Counts',index='DAY',columns='FLIGHT_NUMBER')\n",
    "seaborn.heatmap(heatmap2)"
   ]
  },
  {
   "cell_type": "markdown",
   "metadata": {},
   "source": [
    "# 7.Посчитайте и визуализируйте время задержки отправки и прибытия по трём аэропортам."
   ]
  },
  {
   "cell_type": "code",
   "execution_count": 20,
   "metadata": {},
   "outputs": [
    {
     "data": {
      "text/html": [
       "<div>\n",
       "<style scoped>\n",
       "    .dataframe tbody tr th:only-of-type {\n",
       "        vertical-align: middle;\n",
       "    }\n",
       "\n",
       "    .dataframe tbody tr th {\n",
       "        vertical-align: top;\n",
       "    }\n",
       "\n",
       "    .dataframe thead th {\n",
       "        text-align: right;\n",
       "    }\n",
       "</style>\n",
       "<table border=\"1\" class=\"dataframe\">\n",
       "  <thead>\n",
       "    <tr style=\"text-align: right;\">\n",
       "      <th></th>\n",
       "      <th>ORIGIN_AIRPORT</th>\n",
       "      <th>DEPARTURE_DELAY</th>\n",
       "    </tr>\n",
       "  </thead>\n",
       "  <tbody>\n",
       "    <tr>\n",
       "      <th>957498</th>\n",
       "      <td>ABE</td>\n",
       "      <td>13.0</td>\n",
       "    </tr>\n",
       "    <tr>\n",
       "      <th>2756124</th>\n",
       "      <td>ABE</td>\n",
       "      <td>-5.0</td>\n",
       "    </tr>\n",
       "    <tr>\n",
       "      <th>3636336</th>\n",
       "      <td>ABE</td>\n",
       "      <td>-7.0</td>\n",
       "    </tr>\n",
       "    <tr>\n",
       "      <th>3181610</th>\n",
       "      <td>ABE</td>\n",
       "      <td>-11.0</td>\n",
       "    </tr>\n",
       "    <tr>\n",
       "      <th>5496429</th>\n",
       "      <td>ABE</td>\n",
       "      <td>-11.0</td>\n",
       "    </tr>\n",
       "    <tr>\n",
       "      <th>...</th>\n",
       "      <td>...</td>\n",
       "      <td>...</td>\n",
       "    </tr>\n",
       "    <tr>\n",
       "      <th>2057493</th>\n",
       "      <td>ABQ</td>\n",
       "      <td>68.0</td>\n",
       "    </tr>\n",
       "    <tr>\n",
       "      <th>2057175</th>\n",
       "      <td>ABQ</td>\n",
       "      <td>-7.0</td>\n",
       "    </tr>\n",
       "    <tr>\n",
       "      <th>2056889</th>\n",
       "      <td>ABQ</td>\n",
       "      <td>0.0</td>\n",
       "    </tr>\n",
       "    <tr>\n",
       "      <th>2055794</th>\n",
       "      <td>ABQ</td>\n",
       "      <td>16.0</td>\n",
       "    </tr>\n",
       "    <tr>\n",
       "      <th>5819073</th>\n",
       "      <td>ABQ</td>\n",
       "      <td>16.0</td>\n",
       "    </tr>\n",
       "  </tbody>\n",
       "</table>\n",
       "<p>23795 rows × 2 columns</p>\n",
       "</div>"
      ],
      "text/plain": [
       "        ORIGIN_AIRPORT  DEPARTURE_DELAY\n",
       "957498             ABE             13.0\n",
       "2756124            ABE             -5.0\n",
       "3636336            ABE             -7.0\n",
       "3181610            ABE            -11.0\n",
       "5496429            ABE            -11.0\n",
       "...                ...              ...\n",
       "2057493            ABQ             68.0\n",
       "2057175            ABQ             -7.0\n",
       "2056889            ABQ              0.0\n",
       "2055794            ABQ             16.0\n",
       "5819073            ABQ             16.0\n",
       "\n",
       "[23795 rows x 2 columns]"
      ]
     },
     "execution_count": 20,
     "metadata": {},
     "output_type": "execute_result"
    }
   ],
   "source": [
    "# Оставляем только 3 любых аэропорта, и столбцы с аэропортом и задержкой\n",
    "delay_map=df[(df['ORIGIN_AIRPORT']=='ABE') | (df['ORIGIN_AIRPORT']=='ABI') |\n",
    "             (df['ORIGIN_AIRPORT']=='ABQ')][['ORIGIN_AIRPORT','DEPARTURE_DELAY']]\n",
    "delay_map.sort_values(by=['ORIGIN_AIRPORT'])"
   ]
  },
  {
   "cell_type": "code",
   "execution_count": 21,
   "metadata": {},
   "outputs": [
    {
     "data": {
      "text/plain": [
       "<AxesSubplot:xlabel='DEPARTURE_DELAY', ylabel='ORIGIN_AIRPORT'>"
      ]
     },
     "execution_count": 21,
     "metadata": {},
     "output_type": "execute_result"
    },
    {
     "data": {
      "image/png": "[encoded data removed]",
      "text/plain": [
       "<Figure size 432x288 with 2 Axes>"
      ]
     },
     "metadata": {
      "needs_background": "light"
     },
     "output_type": "display_data"
    }
   ],
   "source": [
    "# Считаем кол-во задержек в каждом аэропорте и добавляем в новый столбец\n",
    "hmap2=delay_map.groupby('DEPARTURE_DELAY')['ORIGIN_AIRPORT'].value_counts().reset_index(name='COUNTS')\n",
    "\n",
    "# pivot_table преобразует дф в сводную таблицу, по которой будем строить карту сразу по всем аэропортам\n",
    "heatmap2_data = hmap2.pivot_table(values='COUNTS',index='ORIGIN_AIRPORT',columns='DEPARTURE_DELAY')\n",
    "# Рисуем карту с задержками по прибытию\n",
    "seaborn.heatmap(heatmap2_data)"
   ]
  },
  {
   "cell_type": "code",
   "execution_count": 22,
   "metadata": {},
   "outputs": [
    {
     "data": {
      "text/html": [
       "<div>\n",
       "<style scoped>\n",
       "    .dataframe tbody tr th:only-of-type {\n",
       "        vertical-align: middle;\n",
       "    }\n",
       "\n",
       "    .dataframe tbody tr th {\n",
       "        vertical-align: top;\n",
       "    }\n",
       "\n",
       "    .dataframe thead th {\n",
       "        text-align: right;\n",
       "    }\n",
       "</style>\n",
       "<table border=\"1\" class=\"dataframe\">\n",
       "  <thead>\n",
       "    <tr style=\"text-align: right;\">\n",
       "      <th></th>\n",
       "      <th>ORIGIN_AIRPORT</th>\n",
       "      <th>ARRIVAL_DELAY</th>\n",
       "    </tr>\n",
       "  </thead>\n",
       "  <tbody>\n",
       "    <tr>\n",
       "      <th>957498</th>\n",
       "      <td>ABE</td>\n",
       "      <td>21.0</td>\n",
       "    </tr>\n",
       "    <tr>\n",
       "      <th>2756124</th>\n",
       "      <td>ABE</td>\n",
       "      <td>-11.0</td>\n",
       "    </tr>\n",
       "    <tr>\n",
       "      <th>3636336</th>\n",
       "      <td>ABE</td>\n",
       "      <td>-14.0</td>\n",
       "    </tr>\n",
       "    <tr>\n",
       "      <th>3181610</th>\n",
       "      <td>ABE</td>\n",
       "      <td>-16.0</td>\n",
       "    </tr>\n",
       "    <tr>\n",
       "      <th>5496429</th>\n",
       "      <td>ABE</td>\n",
       "      <td>-23.0</td>\n",
       "    </tr>\n",
       "    <tr>\n",
       "      <th>...</th>\n",
       "      <td>...</td>\n",
       "      <td>...</td>\n",
       "    </tr>\n",
       "    <tr>\n",
       "      <th>2057493</th>\n",
       "      <td>ABQ</td>\n",
       "      <td>85.0</td>\n",
       "    </tr>\n",
       "    <tr>\n",
       "      <th>2057175</th>\n",
       "      <td>ABQ</td>\n",
       "      <td>-24.0</td>\n",
       "    </tr>\n",
       "    <tr>\n",
       "      <th>2056889</th>\n",
       "      <td>ABQ</td>\n",
       "      <td>2.0</td>\n",
       "    </tr>\n",
       "    <tr>\n",
       "      <th>2055794</th>\n",
       "      <td>ABQ</td>\n",
       "      <td>-7.0</td>\n",
       "    </tr>\n",
       "    <tr>\n",
       "      <th>5819073</th>\n",
       "      <td>ABQ</td>\n",
       "      <td>3.0</td>\n",
       "    </tr>\n",
       "  </tbody>\n",
       "</table>\n",
       "<p>23795 rows × 2 columns</p>\n",
       "</div>"
      ],
      "text/plain": [
       "        ORIGIN_AIRPORT  ARRIVAL_DELAY\n",
       "957498             ABE           21.0\n",
       "2756124            ABE          -11.0\n",
       "3636336            ABE          -14.0\n",
       "3181610            ABE          -16.0\n",
       "5496429            ABE          -23.0\n",
       "...                ...            ...\n",
       "2057493            ABQ           85.0\n",
       "2057175            ABQ          -24.0\n",
       "2056889            ABQ            2.0\n",
       "2055794            ABQ           -7.0\n",
       "5819073            ABQ            3.0\n",
       "\n",
       "[23795 rows x 2 columns]"
      ]
     },
     "execution_count": 22,
     "metadata": {},
     "output_type": "execute_result"
    }
   ],
   "source": [
    "# Оставляем только 3 любых аэропорта, и столбцы с аэропортом и задержкой\n",
    "delay_map=df[(df['ORIGIN_AIRPORT']=='ABE') | (df['ORIGIN_AIRPORT']=='ABI') |\n",
    "             (df['ORIGIN_AIRPORT']=='ABQ')][['ORIGIN_AIRPORT','ARRIVAL_DELAY']]\n",
    "delay_map.sort_values(by=['ORIGIN_AIRPORT'])"
   ]
  },
  {
   "cell_type": "code",
   "execution_count": 23,
   "metadata": {},
   "outputs": [
    {
     "data": {
      "text/plain": [
       "<AxesSubplot:xlabel='ARRIVAL_DELAY', ylabel='ORIGIN_AIRPORT'>"
      ]
     },
     "execution_count": 23,
     "metadata": {},
     "output_type": "execute_result"
    },
    {
     "data": {
      "image/png": "[encoded data removed]",
      "text/plain": [
       "<Figure size 432x288 with 2 Axes>"
      ]
     },
     "metadata": {
      "needs_background": "light"
     },
     "output_type": "display_data"
    }
   ],
   "source": [
    "# Считаем кол-во задержек и добавляем в новый столбец\n",
    "hmap2=delay_map.groupby('ARRIVAL_DELAY')['ORIGIN_AIRPORT'].value_counts().reset_index(name='COUNTS')\n",
    "# pivot_table преобразует дф в сводную таблицу, по которой будем строить карту сразу по всем аэропортам (индексы - строки)\n",
    "heatmap2_data = hmap2.pivot_table(values='COUNTS',index='ORIGIN_AIRPORT',columns='ARRIVAL_DELAY')\n",
    "\n",
    "# Рисуем карту с задержками по отправлению\n",
    "seaborn.heatmap(heatmap2_data)"
   ]
  },
  {
   "cell_type": "markdown",
   "metadata": {},
   "source": [
    "# 8.Определите для трёх выбранных аэропортов и визуализируйте задержки по каждой причине."
   ]
  },
  {
   "cell_type": "code",
   "execution_count": 24,
   "metadata": {},
   "outputs": [],
   "source": [
    "# Оставляем колонки с аэропортом и причинами, загоняем в новый дф\n",
    "reasons = df[['ORIGIN_AIRPORT', 'CANCELLATION_REASON']]"
   ]
  },
  {
   "cell_type": "code",
   "execution_count": 25,
   "metadata": {},
   "outputs": [
    {
     "data": {
      "text/plain": [
       "298        A\n",
       "3490       A\n",
       "4819       A\n",
       "4957       A\n",
       "6639       A\n",
       "          ..\n",
       "5802205    B\n",
       "5804788    B\n",
       "5805130    B\n",
       "5805355    A\n",
       "5812129    B\n",
       "Name: CANCELLATION_REASON, Length: 8548, dtype: object"
      ]
     },
     "execution_count": 25,
     "metadata": {},
     "output_type": "execute_result"
    }
   ],
   "source": [
    "# Исклчаем остальные аэропорты\n",
    "reasonsORD = reasons[reasons.ORIGIN_AIRPORT == 'ORD']\n",
    "# dropna убирает отсутствующие значения из дф\n",
    "reasonsORD = reasonsORD['CANCELLATION_REASON'].dropna()\n",
    "# Вывод всех рейсов с задержками по данному аэропорту\n",
    "reasonsORD"
   ]
  },
  {
   "cell_type": "code",
   "execution_count": 26,
   "metadata": {},
   "outputs": [
    {
     "name": "stdout",
     "output_type": "stream",
     "text": [
      "Причины задержек рейсов из аэропорта ORD\n"
     ]
    },
    {
     "data": {
      "text/plain": [
       "<AxesSubplot:ylabel='ORD_Reasons'>"
      ]
     },
     "execution_count": 26,
     "metadata": {},
     "output_type": "execute_result"
    },
    {
     "data": {
      "image/png": "[encoded data removed]",
      "text/plain": [
       "<Figure size 432x432 with 1 Axes>"
      ]
     },
     "metadata": {},
     "output_type": "display_data"
    }
   ],
   "source": [
    "print('Причины задержек рейсов из аэропорта ORD')\n",
    "reasonsORD.value_counts().plot.pie(ylabel='ORD_Reasons', figsize=(6,6))"
   ]
  },
  {
   "cell_type": "code",
   "execution_count": 27,
   "metadata": {},
   "outputs": [
    {
     "data": {
      "text/plain": [
       "32         A\n",
       "107773     B\n",
       "154307     A\n",
       "179210     B\n",
       "378770     A\n",
       "          ..\n",
       "5790670    A\n",
       "5790783    B\n",
       "5794588    B\n",
       "5795611    B\n",
       "5800869    B\n",
       "Name: CANCELLATION_REASON, Length: 124, dtype: object"
      ]
     },
     "execution_count": 27,
     "metadata": {},
     "output_type": "execute_result"
    }
   ],
   "source": [
    "# Аналогично оставляем рейсы из аэропорта АNС\n",
    "reasonsANC = reasons[reasons.ORIGIN_AIRPORT == 'ANC']\n",
    "reasonsANC = reasonsANC['CANCELLATION_REASON'].dropna()\n",
    "reasonsANC"
   ]
  },
  {
   "cell_type": "code",
   "execution_count": 28,
   "metadata": {},
   "outputs": [
    {
     "name": "stdout",
     "output_type": "stream",
     "text": [
      "Причины задержек рейсов из аэропорта ANC\n"
     ]
    },
    {
     "data": {
      "text/plain": [
       "<AxesSubplot:ylabel='ANC_Reasons'>"
      ]
     },
     "execution_count": 28,
     "metadata": {},
     "output_type": "execute_result"
    },
    {
     "data": {
      "image/png": "[encoded data removed]",
      "text/plain": [
       "<Figure size 432x432 with 1 Axes>"
      ]
     },
     "metadata": {},
     "output_type": "display_data"
    }
   ],
   "source": [
    "print('Причины задержек рейсов из аэропорта ANC')\n",
    "reasonsANC.value_counts().plot.pie(ylabel='ANC_Reasons', figsize=(6,6))"
   ]
  },
  {
   "cell_type": "code",
   "execution_count": 29,
   "metadata": {},
   "outputs": [
    {
     "data": {
      "text/plain": [
       "979        A\n",
       "4078       A\n",
       "34555      A\n",
       "34746      A\n",
       "38896      A\n",
       "          ..\n",
       "5782902    A\n",
       "5783307    A\n",
       "5796074    B\n",
       "5797039    B\n",
       "5818318    A\n",
       "Name: CANCELLATION_REASON, Length: 783, dtype: object"
      ]
     },
     "execution_count": 29,
     "metadata": {},
     "output_type": "execute_result"
    }
   ],
   "source": [
    "# Оставляем рейсы из MIA\n",
    "reasonsMIA = reasons[reasons.ORIGIN_AIRPORT == 'MIA']\n",
    "reasonsMIA = reasonsMIA['CANCELLATION_REASON'].dropna()\n",
    "reasonsMIA"
   ]
  },
  {
   "cell_type": "code",
   "execution_count": 30,
   "metadata": {},
   "outputs": [
    {
     "name": "stdout",
     "output_type": "stream",
     "text": [
      "Причины задержек рейсов из аэропорта MIA\n"
     ]
    },
    {
     "data": {
      "text/plain": [
       "<AxesSubplot:ylabel='MIA_Reasons'>"
      ]
     },
     "execution_count": 30,
     "metadata": {},
     "output_type": "execute_result"
    },
    {
     "data": {
      "image/png": "[encoded data removed]",
      "text/plain": [
       "<Figure size 432x432 with 1 Axes>"
      ]
     },
     "metadata": {},
     "output_type": "display_data"
    }
   ],
   "source": [
    "print('Причины задержек рейсов из аэропорта MIA')\n",
    "reasonsMIA.value_counts().plot.pie(ylabel='MIA_Reasons', figsize=(6,6))"
   ]
  },
  {
   "cell_type": "markdown",
   "metadata": {},
   "source": [
    "# 9.Определите авиакомпанию с максимальными задержками рейсов по отправке и прибытию"
   ]
  },
  {
   "cell_type": "code",
   "execution_count": 31,
   "metadata": {},
   "outputs": [
    {
     "name": "stdout",
     "output_type": "stream",
     "text": [
      "Максимальная задержка по прибытию:\n"
     ]
    },
    {
     "data": {
      "text/html": [
       "<div>\n",
       "<style scoped>\n",
       "    .dataframe tbody tr th:only-of-type {\n",
       "        vertical-align: middle;\n",
       "    }\n",
       "\n",
       "    .dataframe tbody tr th {\n",
       "        vertical-align: top;\n",
       "    }\n",
       "\n",
       "    .dataframe thead th {\n",
       "        text-align: right;\n",
       "    }\n",
       "</style>\n",
       "<table border=\"1\" class=\"dataframe\">\n",
       "  <thead>\n",
       "    <tr style=\"text-align: right;\">\n",
       "      <th></th>\n",
       "      <th>ARRIVAL_DELAY</th>\n",
       "    </tr>\n",
       "    <tr>\n",
       "      <th>AIRLINE</th>\n",
       "      <th></th>\n",
       "    </tr>\n",
       "  </thead>\n",
       "  <tbody>\n",
       "    <tr>\n",
       "      <th>AA</th>\n",
       "      <td>1971.0</td>\n",
       "    </tr>\n",
       "  </tbody>\n",
       "</table>\n",
       "</div>"
      ],
      "text/plain": [
       "         ARRIVAL_DELAY\n",
       "AIRLINE               \n",
       "AA              1971.0"
      ]
     },
     "execution_count": 31,
     "metadata": {},
     "output_type": "execute_result"
    }
   ],
   "source": [
    "# Оставляем колонки с авиалиниями и задержкой по прибытию\n",
    "max_arrival = df.groupby(['AIRLINE'])[['ARRIVAL_DELAY']].max()\n",
    "# Сортируем по убыванию\n",
    "max_arrival = max_arrival.sort_values(by=['ARRIVAL_DELAY'], ascending=False)\n",
    "# Берем первое значение с головы (максимальное)\n",
    "print('Максимальная задержка по прибытию:')\n",
    "max_arrival.head(1)"
   ]
  },
  {
   "cell_type": "code",
   "execution_count": 32,
   "metadata": {},
   "outputs": [
    {
     "name": "stdout",
     "output_type": "stream",
     "text": [
      "Максимальная задержка по отправке:\n"
     ]
    },
    {
     "data": {
      "text/html": [
       "<div>\n",
       "<style scoped>\n",
       "    .dataframe tbody tr th:only-of-type {\n",
       "        vertical-align: middle;\n",
       "    }\n",
       "\n",
       "    .dataframe tbody tr th {\n",
       "        vertical-align: top;\n",
       "    }\n",
       "\n",
       "    .dataframe thead th {\n",
       "        text-align: right;\n",
       "    }\n",
       "</style>\n",
       "<table border=\"1\" class=\"dataframe\">\n",
       "  <thead>\n",
       "    <tr style=\"text-align: right;\">\n",
       "      <th></th>\n",
       "      <th>DEPARTURE_DELAY</th>\n",
       "    </tr>\n",
       "    <tr>\n",
       "      <th>AIRLINE</th>\n",
       "      <th></th>\n",
       "    </tr>\n",
       "  </thead>\n",
       "  <tbody>\n",
       "    <tr>\n",
       "      <th>AA</th>\n",
       "      <td>1988.0</td>\n",
       "    </tr>\n",
       "  </tbody>\n",
       "</table>\n",
       "</div>"
      ],
      "text/plain": [
       "         DEPARTURE_DELAY\n",
       "AIRLINE                 \n",
       "AA                1988.0"
      ]
     },
     "execution_count": 32,
     "metadata": {},
     "output_type": "execute_result"
    }
   ],
   "source": [
    "# Аналогично с задержкой при отправке..\n",
    "max_departure = df.groupby(['AIRLINE'])[['DEPARTURE_DELAY']].max()\n",
    "max_departure = max_departure.sort_values(by=['DEPARTURE_DELAY'], ascending=False)\n",
    "print('Максимальная задержка по отправке:')\n",
    "max_departure.head(1)"
   ]
  }
 ],
 "metadata": {
  "kernelspec": {
   "display_name": "Python 3 (ipykernel)",
   "language": "python",
   "name": "python3"
  },
  "language_info": {
   "codemirror_mode": {
    "name": "ipython",
    "version": 3
   },
   "file_extension": ".py",
   "mimetype": "text/x-python",
   "name": "python",
   "nbconvert_exporter": "python",
   "pygments_lexer": "ipython3",
   "version": "3.9.7"
  }
 },
 "nbformat": 4,
 "nbformat_minor": 4
}
